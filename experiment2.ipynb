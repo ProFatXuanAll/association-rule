{
 "cells": [
  {
   "cell_type": "markdown",
   "metadata": {},
   "source": [
    "# Experiment 2\n",
    "## Parameters\n",
    "- Dataset: `IBM.json`\n",
    "- Minimum support:    $0.4$\n",
    "- Minimum confidence: $0.2$\n",
    "\n",
    "## Expected Result\n",
    "- Frequent itemset generation:\n",
    "    - Execution time:\n",
    "        - **FP-Growth** should be **fastest**.\n",
    "        - **Brutal force** should be **slowest**.\n",
    "    - Memory Usage:\n",
    "        - **FP-Growth** should be **largest**.\n",
    "        - **Brutal force** should be **smallest**.\n",
    "- Association rule generation:\n",
    "    - Execution time:\n",
    "        - Should be **same** because I use **same algorithm**.\n",
    "    - Memory Usage:\n",
    "        - Should be **same** because I use **same algorithm**.\n",
    "\n",
    "## Actual Result\n",
    "- Frequent itemset generation:\n",
    "    - Execution time:\n",
    "        1. Apriori (**fastest**)\n",
    "        2. FP-Growth\n",
    "        3. Brutal Force (**slowest**)\n",
    "    - Memory Usage:\n",
    "        1. Apriori (**smallest**)\n",
    "        2. Brutal Force\n",
    "        3. FP-Growth (**largest**)\n",
    "- Association rule generation:\n",
    "    - Execution time:\n",
    "        1. Apriori (**fastest**)\n",
    "        2. FP-Growth\n",
    "        3. Brutal Force (**slowest**)\n",
    "    - Memory Usage:\n",
    "        1. Apriori (**smallest**)\n",
    "        2. FP-Growth\n",
    "        3. Brutal Force (**largest**)"
   ]
  },
  {
   "cell_type": "code",
   "execution_count": 1,
   "metadata": {},
   "outputs": [],
   "source": [
    "import json\n",
    "import time\n",
    "import brutal_force\n",
    "import apriori\n",
    "import fp_growth\n",
    "import pickle\n",
    "\n",
    "data_path = './data'\n",
    "data_name = '/IBM.json'\n",
    "\n",
    "f = open(data_path + data_name, 'r')\n",
    "transactions = json.loads(f.read())\n",
    "f.close()\n",
    "\n",
    "min_sup = 0.4\n",
    "min_cof = 0.2\n",
    "\n",
    "bf = brutal_force.AssociationRuleMining(transactions=transactions,\n",
    "                                        min_sup=min_sup,\n",
    "                                        min_cof=min_cof)\n",
    "ap = apriori.AssociationRuleMining(transactions=transactions,\n",
    "                                   min_sup=min_sup,\n",
    "                                   min_cof=min_cof)\n",
    "fp = fp_growth.AssociationRuleMining(transactions=transactions,\n",
    "                                     min_sup=min_sup,\n",
    "                                     min_cof=min_cof)"
   ]
  },
  {
   "cell_type": "code",
   "execution_count": 2,
   "metadata": {},
   "outputs": [
    {
     "name": "stdout",
     "output_type": "stream",
     "text": [
      "Compare execution time of frequent itemset generation\n",
      "Brutal force: 0.027070999145507812 secs\n",
      "Apriori:      0.003751516342163086 secs\n",
      "FP-Growth:    0.003837108612060547 secs\n"
     ]
    }
   ],
   "source": [
    "print('Compare execution time of frequent itemset generation')\n",
    "start_time = time.time()\n",
    "bf.frequent_itemset()\n",
    "print('Brutal force: {} secs'.format(time.time() - start_time))\n",
    "\n",
    "start_time = time.time()\n",
    "ap.frequent_itemset()\n",
    "print('Apriori:      {} secs'.format(time.time() - start_time))\n",
    "\n",
    "start_time = time.time()\n",
    "fp.frequent_itemset()\n",
    "print('FP-Growth:    {} secs'.format(time.time() - start_time))"
   ]
  },
  {
   "cell_type": "code",
   "execution_count": 3,
   "metadata": {},
   "outputs": [
    {
     "name": "stdout",
     "output_type": "stream",
     "text": [
      "Compare memory usage of frequent itemset generation\n",
      "Brutal force: 12502 bytes\n",
      "Apriori:      2445 bytes\n",
      "FP-Growth:    4514 bytes\n"
     ]
    }
   ],
   "source": [
    "print('Compare memory usage of frequent itemset generation')\n",
    "print('Brutal force: {} bytes'.format(len(pickle.dumps(bf))))\n",
    "print('Apriori:      {} bytes'.format(len(pickle.dumps(ap))))\n",
    "print('FP-Growth:    {} bytes'.format(len(pickle.dumps(fp))))"
   ]
  },
  {
   "cell_type": "code",
   "execution_count": 4,
   "metadata": {},
   "outputs": [
    {
     "name": "stdout",
     "output_type": "stream",
     "text": [
      "    Brutal force     ┃        Apriori       ┃      FP-Growth\n",
      "━━━━━━━━━━━━━━━━━━━━━╋━━━━━━━━━━━━━━━━━━━━━━╋━━━━━━━━━━━━━━━━━━━━━━\n",
      "0,7                  ┃ 0,7                  ┃ 7,0                 \n",
      "━━━━━━━━━━━━━━━━━━━━━╋━━━━━━━━━━━━━━━━━━━━━━╋━━━━━━━━━━━━━━━━━━━━━━\n",
      "0,8                  ┃ 0,8                  ┃ 8,0                 \n",
      "━━━━━━━━━━━━━━━━━━━━━╋━━━━━━━━━━━━━━━━━━━━━━╋━━━━━━━━━━━━━━━━━━━━━━\n",
      "6,8                  ┃ 6,8                  ┃ 8,4                 \n",
      "━━━━━━━━━━━━━━━━━━━━━╋━━━━━━━━━━━━━━━━━━━━━━╋━━━━━━━━━━━━━━━━━━━━━━\n",
      "7,8                  ┃ 7,8                  ┃ 8,6                 \n",
      "━━━━━━━━━━━━━━━━━━━━━╋━━━━━━━━━━━━━━━━━━━━━━╋━━━━━━━━━━━━━━━━━━━━━━\n",
      "7,9                  ┃ 7,9                  ┃ 7,8                 \n",
      "━━━━━━━━━━━━━━━━━━━━━╋━━━━━━━━━━━━━━━━━━━━━━╋━━━━━━━━━━━━━━━━━━━━━━\n",
      "8,4                  ┃ 8,4                  ┃ 7,9                 \n",
      "━━━━━━━━━━━━━━━━━━━━━╋━━━━━━━━━━━━━━━━━━━━━━╋━━━━━━━━━━━━━━━━━━━━━━\n",
      "8,5                  ┃ 8,5                  ┃ 8,5                 \n",
      "━━━━━━━━━━━━━━━━━━━━━╋━━━━━━━━━━━━━━━━━━━━━━╋━━━━━━━━━━━━━━━━━━━━━━\n",
      "0                    ┃ 0                    ┃ 0                   \n",
      "━━━━━━━━━━━━━━━━━━━━━╋━━━━━━━━━━━━━━━━━━━━━━╋━━━━━━━━━━━━━━━━━━━━━━\n",
      "6                    ┃ 6                    ┃ 6                   \n",
      "━━━━━━━━━━━━━━━━━━━━━╋━━━━━━━━━━━━━━━━━━━━━━╋━━━━━━━━━━━━━━━━━━━━━━\n",
      "7                    ┃ 7                    ┃ 7                   \n",
      "━━━━━━━━━━━━━━━━━━━━━╋━━━━━━━━━━━━━━━━━━━━━━╋━━━━━━━━━━━━━━━━━━━━━━\n",
      "8                    ┃ 8                    ┃ 8                   \n",
      "━━━━━━━━━━━━━━━━━━━━━╋━━━━━━━━━━━━━━━━━━━━━━╋━━━━━━━━━━━━━━━━━━━━━━\n",
      "9                    ┃ 9                    ┃ 9                   \n",
      "━━━━━━━━━━━━━━━━━━━━━╋━━━━━━━━━━━━━━━━━━━━━━╋━━━━━━━━━━━━━━━━━━━━━━\n",
      "4                    ┃ 4                    ┃ 4                   \n",
      "━━━━━━━━━━━━━━━━━━━━━╋━━━━━━━━━━━━━━━━━━━━━━╋━━━━━━━━━━━━━━━━━━━━━━\n",
      "5                    ┃ 5                    ┃ 5                   \n",
      "━━━━━━━━━━━━━━━━━━━━━╋━━━━━━━━━━━━━━━━━━━━━━╋━━━━━━━━━━━━━━━━━━━━━━\n"
     ]
    }
   ],
   "source": [
    "print('    Brutal force     ┃        Apriori       ┃      FP-Growth')\n",
    "print('━━━━━━━━━━━━━━━━━━━━━╋━━━━━━━━━━━━━━━━━━━━━━╋━━━━━━━━━━━━━━━━━━━━━━')\n",
    "for tp in zip(bf.frequent_itemset(), ap.frequent_itemset(), fp.frequent_itemset()):\n",
    "    print('{:20} ┃ {:20} ┃ {:20}'.format(','.join(tp[0]), ','.join(tp[1]), ','.join(tp[2])))\n",
    "    print('━━━━━━━━━━━━━━━━━━━━━╋━━━━━━━━━━━━━━━━━━━━━━╋━━━━━━━━━━━━━━━━━━━━━━')"
   ]
  },
  {
   "cell_type": "code",
   "execution_count": 5,
   "metadata": {},
   "outputs": [
    {
     "name": "stdout",
     "output_type": "stream",
     "text": [
      "Compare execution time of association rule generation\n",
      "Brutal force: 0.00048732757568359375 secs\n",
      "Apriori:      0.00042700767517089844 secs\n",
      "FP-Growth:    0.00046324729919433594 secs\n"
     ]
    }
   ],
   "source": [
    "print('Compare execution time of association rule generation')\n",
    "start_time = time.time()\n",
    "bf.association_rules()\n",
    "print('Brutal force: {} secs'.format(time.time() - start_time))\n",
    "\n",
    "start_time = time.time()\n",
    "ap.association_rules()\n",
    "print('Apriori:      {} secs'.format(time.time() - start_time))\n",
    "\n",
    "start_time = time.time()\n",
    "fp.association_rules()\n",
    "print('FP-Growth:    {} secs'.format(time.time() - start_time))"
   ]
  },
  {
   "cell_type": "code",
   "execution_count": 6,
   "metadata": {},
   "outputs": [
    {
     "name": "stdout",
     "output_type": "stream",
     "text": [
      "Compare memory usage of association rule generation\n",
      "Brutal force: 12951 bytes\n",
      "Apriori:      2714 bytes\n",
      "FP-Growth:    4975 bytes\n"
     ]
    }
   ],
   "source": [
    "print('Compare memory usage of association rule generation')\n",
    "print('Brutal force: {} bytes'.format(len(pickle.dumps(bf))))\n",
    "print('Apriori:      {} bytes'.format(len(pickle.dumps(ap))))\n",
    "print('FP-Growth:    {} bytes'.format(len(pickle.dumps(fp))))"
   ]
  },
  {
   "cell_type": "code",
   "execution_count": 7,
   "metadata": {},
   "outputs": [
    {
     "name": "stdout",
     "output_type": "stream",
     "text": [
      "     Brutal force        ┃          Apriori         ┃        FP-Growth\n",
      "━━━━━━━━━━━━━━━━━━━━━━━━━╋━━━━━━━━━━━━━━━━━━━━━━━━━━╋━━━━━━━━━━━━━━━━━━━━━━━━━━\n",
      "0 => 7                   ┃ 0 => 7                   ┃ 7 => 0                  \n",
      "━━━━━━━━━━━━━━━━━━━━━━━━━╋━━━━━━━━━━━━━━━━━━━━━━━━━━╋━━━━━━━━━━━━━━━━━━━━━━━━━━\n",
      "7 => 0                   ┃ 7 => 0                   ┃ 0 => 7                  \n",
      "━━━━━━━━━━━━━━━━━━━━━━━━━╋━━━━━━━━━━━━━━━━━━━━━━━━━━╋━━━━━━━━━━━━━━━━━━━━━━━━━━\n",
      "0 => 8                   ┃ 0 => 8                   ┃ 8 => 0                  \n",
      "━━━━━━━━━━━━━━━━━━━━━━━━━╋━━━━━━━━━━━━━━━━━━━━━━━━━━╋━━━━━━━━━━━━━━━━━━━━━━━━━━\n",
      "8 => 0                   ┃ 8 => 0                   ┃ 0 => 8                  \n",
      "━━━━━━━━━━━━━━━━━━━━━━━━━╋━━━━━━━━━━━━━━━━━━━━━━━━━━╋━━━━━━━━━━━━━━━━━━━━━━━━━━\n",
      "6 => 8                   ┃ 6 => 8                   ┃ 8 => 4                  \n",
      "━━━━━━━━━━━━━━━━━━━━━━━━━╋━━━━━━━━━━━━━━━━━━━━━━━━━━╋━━━━━━━━━━━━━━━━━━━━━━━━━━\n",
      "8 => 6                   ┃ 8 => 6                   ┃ 4 => 8                  \n",
      "━━━━━━━━━━━━━━━━━━━━━━━━━╋━━━━━━━━━━━━━━━━━━━━━━━━━━╋━━━━━━━━━━━━━━━━━━━━━━━━━━\n",
      "7 => 8                   ┃ 7 => 8                   ┃ 8 => 6                  \n",
      "━━━━━━━━━━━━━━━━━━━━━━━━━╋━━━━━━━━━━━━━━━━━━━━━━━━━━╋━━━━━━━━━━━━━━━━━━━━━━━━━━\n",
      "8 => 7                   ┃ 8 => 7                   ┃ 6 => 8                  \n",
      "━━━━━━━━━━━━━━━━━━━━━━━━━╋━━━━━━━━━━━━━━━━━━━━━━━━━━╋━━━━━━━━━━━━━━━━━━━━━━━━━━\n",
      "7 => 9                   ┃ 7 => 9                   ┃ 7 => 8                  \n",
      "━━━━━━━━━━━━━━━━━━━━━━━━━╋━━━━━━━━━━━━━━━━━━━━━━━━━━╋━━━━━━━━━━━━━━━━━━━━━━━━━━\n",
      "9 => 7                   ┃ 9 => 7                   ┃ 8 => 7                  \n",
      "━━━━━━━━━━━━━━━━━━━━━━━━━╋━━━━━━━━━━━━━━━━━━━━━━━━━━╋━━━━━━━━━━━━━━━━━━━━━━━━━━\n",
      "8 => 4                   ┃ 8 => 4                   ┃ 7 => 9                  \n",
      "━━━━━━━━━━━━━━━━━━━━━━━━━╋━━━━━━━━━━━━━━━━━━━━━━━━━━╋━━━━━━━━━━━━━━━━━━━━━━━━━━\n",
      "4 => 8                   ┃ 4 => 8                   ┃ 9 => 7                  \n",
      "━━━━━━━━━━━━━━━━━━━━━━━━━╋━━━━━━━━━━━━━━━━━━━━━━━━━━╋━━━━━━━━━━━━━━━━━━━━━━━━━━\n",
      "8 => 5                   ┃ 8 => 5                   ┃ 8 => 5                  \n",
      "━━━━━━━━━━━━━━━━━━━━━━━━━╋━━━━━━━━━━━━━━━━━━━━━━━━━━╋━━━━━━━━━━━━━━━━━━━━━━━━━━\n",
      "5 => 8                   ┃ 5 => 8                   ┃ 5 => 8                  \n",
      "━━━━━━━━━━━━━━━━━━━━━━━━━╋━━━━━━━━━━━━━━━━━━━━━━━━━━╋━━━━━━━━━━━━━━━━━━━━━━━━━━\n"
     ]
    }
   ],
   "source": [
    "print('     Brutal force        ┃          Apriori         ┃        FP-Growth')\n",
    "print('━━━━━━━━━━━━━━━━━━━━━━━━━╋━━━━━━━━━━━━━━━━━━━━━━━━━━╋━━━━━━━━━━━━━━━━━━━━━━━━━━')\n",
    "for tp in zip(bf.association_rules(), ap.association_rules(), fp.association_rules()):\n",
    "    print('{:24} ┃ {:24} ┃ {:24}'.format(','.join(tp[0]['condition'])+' => '+','.join(tp[0]['prediction']),\n",
    "                                         ','.join(tp[1]['condition'])+' => '+','.join(tp[1]['prediction']),\n",
    "                                         ','.join(tp[2]['condition'])+' => '+','.join(tp[2]['prediction'])))\n",
    "    print('━━━━━━━━━━━━━━━━━━━━━━━━━╋━━━━━━━━━━━━━━━━━━━━━━━━━━╋━━━━━━━━━━━━━━━━━━━━━━━━━━')"
   ]
  }
 ],
 "metadata": {
  "kernelspec": {
   "display_name": "Python 3",
   "language": "python",
   "name": "python3"
  },
  "language_info": {
   "codemirror_mode": {
    "name": "ipython",
    "version": 3
   },
   "file_extension": ".py",
   "mimetype": "text/x-python",
   "name": "python",
   "nbconvert_exporter": "python",
   "pygments_lexer": "ipython3",
   "version": "3.5.2"
  }
 },
 "nbformat": 4,
 "nbformat_minor": 2
}
